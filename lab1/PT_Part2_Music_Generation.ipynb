{
  "cells": [
    {
      "cell_type": "markdown",
      "metadata": {
        "id": "uoJsVjtCMunI"
      },
      "source": [
        "<table align=\"center\">\n",
        "  <td align=\"center\"><a target=\"_blank\" href=\"http://introtodeeplearning.com\">\n",
        "        <img src=\"https://i.ibb.co/Jr88sn2/mit.png\" style=\"padding-bottom:5px;\" />\n",
        "      Visit MIT Deep Learning</a></td>\n",
        "  <td align=\"center\"><a target=\"_blank\" href=\"https://colab.research.google.com/github/MITDeepLearning/introtodeeplearning/blob/master/lab1/PT_Part2_Music_Generation.ipynb\">\n",
        "        <img src=\"https://i.ibb.co/2P3SLwK/colab.png\"  style=\"padding-bottom:5px;\" />Run in Google Colab</a></td>\n",
        "  <td align=\"center\"><a target=\"_blank\" href=\"https://github.com/MITDeepLearning/introtodeeplearning/blob/master/lab1/PT_Part2_Music_Generation.ipynb\">\n",
        "        <img src=\"https://i.ibb.co/xfJbPmL/github.png\"  height=\"70px\" style=\"padding-bottom:5px;\"  />View Source on GitHub</a></td>\n",
        "</table>\n",
        "\n",
        "# Copyright Information"
      ]
    },
    {
      "cell_type": "code",
      "execution_count": null,
      "metadata": {
        "id": "bUik05YqMyCH"
      },
      "outputs": [],
      "source": [
        "# Copyright 2025 MIT Introduction to Deep Learning. All Rights Reserved.\n",
        "#\n",
        "# Licensed under the MIT License. You may not use this file except in compliance\n",
        "# with the License. Use and/or modification of this code outside of MIT Introduction\n",
        "# to Deep Learning must reference:\n",
        "#\n",
        "# © MIT Introduction to Deep Learning\n",
        "# http://introtodeeplearning.com\n",
        "#"
      ]
    },
    {
      "cell_type": "markdown",
      "metadata": {
        "id": "O-97SDET3JG-"
      },
      "source": [
        "# Lab 1: Intro to PyTorch and Music Generation with RNNs\n",
        "\n",
        "# Part 2: Music Generation with RNNs\n",
        "\n",
        "In this portion of the lab, we will explore building a Recurrent Neural Network (RNN) for music generation using PyTorch. We will train a model to learn the patterns in raw sheet music in [ABC notation](https://en.wikipedia.org/wiki/ABC_notation) and then use this model to generate new music."
      ]
    },
    {
      "cell_type": "markdown",
      "metadata": {
        "id": "rsvlBQYCrE4I"
      },
      "source": [
        "## 2.1 Dependencies\n",
        "First, let's download the course repository, install dependencies, and import the relevant packages we'll need for this lab.\n",
        "\n",
        "We will be using [Comet ML](https://www.comet.com/docs/v2/) to track our model development and training runs. First, sign up for a Comet account [at this link](https://www.comet.com/signup?utm_source=mit_dl&utm_medium=partner&utm_content=github\n",
        ") (you can use your Google or Github account). You will need to generate a new personal API Key, which you can find either in the first 'Get Started with Comet' page, under your account settings, or by pressing the '?' in the top right corner and then 'Quickstart Guide'. Enter this API key as the global variable `COMET_API_KEY`."
      ]
    },
    {
      "cell_type": "code",
      "execution_count": null,
      "metadata": {
        "id": "riVZCVK65QTH"
      },
      "outputs": [],
      "source": [
        "!pip install comet_ml > /dev/null 2>&1\n",
        "import comet_ml\n",
        "# TODO: ENTER YOUR API KEY HERE!! instructions above\n",
        "COMET_API_KEY = \"\"\n",
        "\n",
        "# Import PyTorch and other relevant libraries\n",
        "import torch\n",
        "import torch.nn as nn\n",
        "import torch.optim as optim\n",
        "\n",
        "# Download and import the MIT Introduction to Deep Learning package\n",
        "!pip install mitdeeplearning --quiet\n",
        "import mitdeeplearning as mdl\n",
        "\n",
        "# Import all remaining packages\n",
        "import numpy as np\n",
        "import os\n",
        "import time\n",
        "import functools\n",
        "from IPython import display as ipythondisplay\n",
        "from tqdm import tqdm\n",
        "from scipy.io.wavfile import write\n",
        "!apt-get install abcmidi timidity > /dev/null 2>&1\n",
        "\n",
        "\n",
        "# Check that we are using a GPU, if not switch runtimes\n",
        "#   using Runtime > Change Runtime Type > GPU\n",
        "assert torch.cuda.is_available(), \"Please enable GPU from runtime settings\"\n",
        "assert COMET_API_KEY != \"\", \"Please insert your Comet API Key\"\n",
        "\n"
      ]
    },
    {
      "cell_type": "markdown",
      "source": [],
      "metadata": {
        "id": "WZCsSZAHo3nj"
      }
    },
    {
      "cell_type": "markdown",
      "metadata": {
        "id": "_ajvp0No4qDm"
      },
      "source": [
        "## 2.2 Dataset\n",
        "\n",
        "![Let's Dance!](http://33.media.tumblr.com/3d223954ad0a77f4e98a7b87136aa395/tumblr_nlct5lFVbF1qhu7oio1_500.gif)\n",
        "\n",
        "We've gathered a dataset of thousands of Irish folk songs, represented in the ABC notation. Let's download the dataset and inspect it:\n"
      ]
    },
    {
      "cell_type": "code",
      "execution_count": null,
      "metadata": {
        "id": "P7dFnP5q3Jve",
        "colab": {
          "base_uri": "https://localhost:8080/"
        },
        "outputId": "1f62d4b1-ee5f-4462-c57d-b7110b5ffce1"
      },
      "outputs": [
        {
          "output_type": "stream",
          "name": "stdout",
          "text": [
            "Found 817 songs in text\n",
            "\n",
            "Example song: \n",
            "X:1\n",
            "T:Alexander's\n",
            "Z: id:dc-hornpipe-1\n",
            "M:C|\n",
            "L:1/8\n",
            "K:D Major\n",
            "(3ABc|dAFA DFAd|fdcd FAdf|gfge fefd|(3efe (3dcB A2 (3ABc|!\n",
            "dAFA DFAd|fdcd FAdf|gfge fefd|(3efe dc d2:|!\n",
            "AG|FAdA FAdA|GBdB GBdB|Acec Acec|dfaf gecA|!\n",
            "FAdA FAdA|GBdB GBdB|Aceg fefd|(3efe dc d2:|!\n"
          ]
        }
      ],
      "source": [
        "# Download the dataset\n",
        "songs = mdl.lab1.load_training_data()\n",
        "\n",
        "# Print one of the songs to inspect it in greater detail!\n",
        "example_song = songs[0]\n",
        "print(\"\\nExample song: \")\n",
        "print(example_song)"
      ]
    },
    {
      "cell_type": "markdown",
      "metadata": {
        "id": "hKF3EHJlCAj2"
      },
      "source": [
        "We can easily convert a song in ABC notation to an audio waveform and play it back. Be patient for this conversion to run, it can take some time."
      ]
    },
    {
      "cell_type": "code",
      "execution_count": null,
      "metadata": {
        "id": "11toYzhEEKDz"
      },
      "outputs": [],
      "source": [
        "# Convert the ABC notation to audio file and listen to it\n",
        "mdl.lab1.play_song(example_song)"
      ]
    },
    {
      "cell_type": "markdown",
      "metadata": {
        "id": "7vH24yyquwKQ"
      },
      "source": [
        "One important thing to think about is that this notation of music does not simply contain information on the notes being played, but additionally there is meta information such as the song title, key, and tempo. How does the number of different characters that are present in the text file impact the complexity of the learning problem? This will become important soon, when we generate a numerical representation for the text data."
      ]
    },
    {
      "cell_type": "code",
      "execution_count": null,
      "metadata": {
        "id": "IlCgQBRVymwR",
        "colab": {
          "base_uri": "https://localhost:8080/"
        },
        "outputId": "a9dac5b6-d475-4303-a454-5749f681b270"
      },
      "outputs": [
        {
          "output_type": "stream",
          "name": "stdout",
          "text": [
            "There are 83 unique characters in the dataset\n"
          ]
        }
      ],
      "source": [
        "# Join our list of song strings into a single string containing all songs\n",
        "songs_joined = \"\\n\\n\".join(songs)\n",
        "\n",
        "# Find all unique characters in the joined string\n",
        "vocab = sorted(set(songs_joined))\n",
        "print(\"There are\", len(vocab), \"unique characters in the dataset\")"
      ]
    },
    {
      "cell_type": "markdown",
      "metadata": {
        "id": "rNnrKn_lL-IJ"
      },
      "source": [
        "## 2.3 Process the dataset for the learning task\n",
        "\n",
        "Let's take a step back and consider our prediction task. We're trying to train an RNN model to learn patterns in ABC music, and then use this model to generate (i.e., predict) a new piece of music based on this learned information.\n",
        "\n",
        "Breaking this down, what we're really asking the model is: given a character, or a sequence of characters, what is the most probable next character? We'll train the model to perform this task.\n",
        "\n",
        "To achieve this, we will input a sequence of characters to the model, and train the model to predict the output, that is, the following character at each time step. RNNs maintain an internal state that depends on previously seen elements, so information about all characters seen up until a given moment will be taken into account in generating the prediction."
      ]
    },
    {
      "cell_type": "markdown",
      "metadata": {
        "id": "LFjSVAlWzf-N"
      },
      "source": [
        "### Vectorize the text\n",
        "\n",
        "Before we begin training our RNN model, we'll need to create a numerical representation of our text-based dataset. To do this, we'll generate two lookup tables: one that maps characters to numbers, and a second that maps numbers back to characters. Recall that we just identified the unique characters present in the text.\n"
      ]
    },
    {
      "cell_type": "code",
      "execution_count": null,
      "metadata": {
        "id": "IalZLbvOzf-F"
      },
      "outputs": [],
      "source": [
        "### Define numerical representation of text ###\n",
        "\n",
        "# Create a mapping from character to unique index.\n",
        "# For example, to get the index of the character \"d\",\n",
        "#   we can evaluate `char2idx[\"d\"]`.\n",
        "char2idx = {u: i for i, u in enumerate(vocab)}\n",
        "\n",
        "# Create a mapping from indices to characters. This is\n",
        "#   the inverse of char2idx and allows us to convert back\n",
        "#   from unique index to the character in our vocabulary.\n",
        "idx2char = np.array(vocab)"
      ]
    },
    {
      "cell_type": "markdown",
      "metadata": {
        "id": "tZfqhkYCymwX"
      },
      "source": [
        "This gives us an integer representation for each character. Observe that the unique characters (i.e., our vocabulary) in the text are mapped as indices from 0 to `len(unique)`. Let's take a peek at this numerical representation of our dataset:"
      ]
    },
    {
      "cell_type": "code",
      "execution_count": null,
      "metadata": {
        "id": "FYyNlCNXymwY",
        "colab": {
          "base_uri": "https://localhost:8080/"
        },
        "outputId": "ee7ef7d1-0152-4d7b-e205-1153565e41f0"
      },
      "outputs": [
        {
          "output_type": "stream",
          "name": "stdout",
          "text": [
            "{\n",
            "  '\\n':   0,\n",
            "  ' ' :   1,\n",
            "  '!' :   2,\n",
            "  '\"' :   3,\n",
            "  '#' :   4,\n",
            "  \"'\" :   5,\n",
            "  '(' :   6,\n",
            "  ')' :   7,\n",
            "  ',' :   8,\n",
            "  '-' :   9,\n",
            "  '.' :  10,\n",
            "  '/' :  11,\n",
            "  '0' :  12,\n",
            "  '1' :  13,\n",
            "  '2' :  14,\n",
            "  '3' :  15,\n",
            "  '4' :  16,\n",
            "  '5' :  17,\n",
            "  '6' :  18,\n",
            "  '7' :  19,\n",
            "  ...\n",
            "}\n"
          ]
        }
      ],
      "source": [
        "print('{')\n",
        "for char, _ in zip(char2idx, range(20)):\n",
        "    print('  {:4s}: {:3d},'.format(repr(char), char2idx[char]))\n",
        "print('  ...\\n}')"
      ]
    },
    {
      "cell_type": "code",
      "execution_count": null,
      "metadata": {
        "id": "g-LnKyu4dczc"
      },
      "outputs": [],
      "source": [
        "### Vectorize the songs string ###\n",
        "\n",
        "'''TODO: Write a function to convert the all songs string to a vectorized\n",
        "    (i.e., numeric) representation. Use the appropriate mapping\n",
        "    above to convert from vocab characters to the corresponding indices.\n",
        "\n",
        "  NOTE: the output of the `vectorize_string` function\n",
        "  should be a np.array with `N` elements, where `N` is\n",
        "  the number of characters in the input string\n",
        "'''\n",
        "def vectorize_string(string):\n",
        "  list_char = list(string)\n",
        "  idx = np.vectorize(lambda x: char2idx[x])\n",
        "  return idx(list_char)\n",
        "\n",
        "vectorized_songs = vectorize_string(songs_joined)"
      ]
    },
    {
      "cell_type": "markdown",
      "metadata": {
        "id": "IqxpSuZ1w-ub"
      },
      "source": [
        "We can also look at how the first part of the text is mapped to an integer representation:\n"
      ]
    },
    {
      "cell_type": "code",
      "execution_count": null,
      "metadata": {
        "id": "l1VKcQHcymwb",
        "colab": {
          "base_uri": "https://localhost:8080/"
        },
        "outputId": "e2b04c58-a1ab-4d03-a4d7-4feec1d83678"
      },
      "outputs": [
        {
          "output_type": "stream",
          "name": "stdout",
          "text": [
            "'X:1\\nT:Alex' ---- characters mapped to int ----> [49 22 13  0 45 22 26 67 60 79]\n"
          ]
        }
      ],
      "source": [
        "print ('{} ---- characters mapped to int ----> {}'.format(repr(songs_joined[:10]), vectorized_songs[:10]))\n",
        "# check that vectorized_songs is a numpy array\n",
        "assert isinstance(vectorized_songs, np.ndarray), \"returned result should be a numpy array\""
      ]
    },
    {
      "cell_type": "markdown",
      "metadata": {
        "id": "hgsVvVxnymwf"
      },
      "source": [
        "### Create training examples and targets\n",
        "\n",
        "Our next step is to actually divide the text into example sequences that we'll use during training. Each input sequence that we feed into our RNN will contain `seq_length` characters from the text. We'll also need to define a target sequence for each input sequence, which will be used in training the RNN to predict the next character. For each input, the corresponding target will contain the same length of text, except shifted one character to the right.\n",
        "\n",
        "To do this, we'll break the text into chunks of `seq_length+1`. Suppose `seq_length` is 4 and our text is \"Hello\". Then, our input sequence is \"Hell\" and the target sequence is \"ello\".\n",
        "\n",
        "The batch method will then let us convert this stream of character indices to sequences of the desired size.\n"
      ]
    },
    {
      "cell_type": "code",
      "execution_count": null,
      "metadata": {
        "id": "LF-N8F7BoDRi",
        "colab": {
          "base_uri": "https://localhost:8080/"
        },
        "outputId": "76cf582f-13cd-4eca-dde9-31b4109a22c0"
      },
      "outputs": [
        {
          "output_type": "stream",
          "name": "stdout",
          "text": [
            "[  5672 185160]\n",
            "Batch function works correctly!\n"
          ]
        }
      ],
      "source": [
        "### Batch definition to create training examples ###\n",
        "\n",
        "def get_batch(vectorized_songs, seq_length, batch_size):\n",
        "    # the length of the vectorized songs string\n",
        "    n = vectorized_songs.shape[0] - 1\n",
        "    # randomly choose the starting indices for the examples in the training batch\n",
        "    idx = np.random.choice(n - seq_length, batch_size)\n",
        "    print(idx)\n",
        "\n",
        "    input_batch = list()\n",
        "    output_batch = list()\n",
        "\n",
        "    for i in idx:\n",
        "      input_batch.append(vectorized_songs[i: i + seq_length])\n",
        "      output_batch.append(vectorized_songs[i + seq_length: i + seq_length * 2])\n",
        "\n",
        "    '''TODO: construct a list of input sequences for the training batch'''\n",
        "    input_batch = [vectorized_songs[i: i + seq_length] for i in idx]\n",
        "\n",
        "    '''TODO: construct a list of output sequences for the training batch'''\n",
        "    output_batch = [vectorized_songs[i + 1: i + seq_length + 1] for i in idx]\n",
        "\n",
        "    # Convert the input and output batches to tensors\n",
        "    x_batch = torch.tensor(input_batch, dtype=torch.long)\n",
        "    y_batch = torch.tensor(output_batch, dtype=torch.long)\n",
        "\n",
        "    return x_batch, y_batch\n",
        "\n",
        "# Perform some simple tests to make sure your batch function is working properly!\n",
        "test_args = (vectorized_songs, 10, 2)\n",
        "x_batch, y_batch = get_batch(*test_args)\n",
        "assert x_batch.shape == (2, 10), \"x_batch shape is incorrect\"\n",
        "assert y_batch.shape == (2, 10), \"y_batch shape is incorrect\"\n",
        "print(\"Batch function works correctly!\")\n"
      ]
    },
    {
      "cell_type": "markdown",
      "metadata": {
        "id": "_33OHL3b84i0"
      },
      "source": [
        "For each of these vectors, each index is processed at a single time step. So, for the input at time step 0, the model receives the index for the first character in the sequence, and tries to predict the index of the next character. At the next timestep, it does the same thing, but the RNN considers the information from the previous step, i.e., its updated state, in addition to the current input.\n",
        "\n",
        "We can make this concrete by taking a look at how this works over the first several characters in our text:"
      ]
    },
    {
      "cell_type": "code",
      "execution_count": null,
      "metadata": {
        "id": "0eBu9WZG84i0",
        "outputId": "b587152b-bde2-48d4-a1be-b9fad28f93c1",
        "colab": {
          "base_uri": "https://localhost:8080/"
        }
      },
      "outputs": [
        {
          "output_type": "stream",
          "name": "stdout",
          "text": [
            "[152211]\n",
            "Step   0\n",
            "  input: 26 (np.str_('A'))\n",
            "  expected output: 14 (np.str_('2'))\n",
            "Step   1\n",
            "  input: 14 (np.str_('2'))\n",
            "  expected output: 58 (np.str_('c'))\n",
            "Step   2\n",
            "  input: 58 (np.str_('c'))\n",
            "  expected output: 26 (np.str_('A'))\n",
            "Step   3\n",
            "  input: 26 (np.str_('A'))\n",
            "  expected output: 1 (np.str_(' '))\n",
            "Step   4\n",
            "  input: 1 (np.str_(' '))\n",
            "  expected output: 60 (np.str_('e'))\n"
          ]
        }
      ],
      "source": [
        "x_batch, y_batch = get_batch(vectorized_songs, seq_length=5, batch_size=1)\n",
        "\n",
        "for i, (input_idx, target_idx) in enumerate(zip(x_batch[0], y_batch[0])):\n",
        "    print(\"Step {:3d}\".format(i))\n",
        "    print(\"  input: {} ({:s})\".format(input_idx, repr(idx2char[input_idx.item()])))\n",
        "    print(\"  expected output: {} ({:s})\".format(target_idx, repr(idx2char[target_idx.item()])))\n"
      ]
    },
    {
      "cell_type": "markdown",
      "metadata": {
        "id": "r6oUuElIMgVx"
      },
      "source": [
        "## 2.4 The Recurrent Neural Network (RNN) model"
      ]
    },
    {
      "cell_type": "markdown",
      "metadata": {
        "id": "m8gPwEjRzf-Z"
      },
      "source": [
        "Now we're ready to define and train an RNN model on our ABC music dataset, and then use that trained model to generate a new song. We'll train our RNN using batches of song snippets from our dataset, which we generated in the previous section.\n",
        "\n",
        "The model is based off the LSTM architecture, where we use a state vector to maintain information about the temporal relationships between consecutive characters. The final output of the LSTM is then fed into a fully connected linear [`nn.Linear`](https://pytorch.org/docs/stable/generated/torch.nn.Linear.html) layer where we'll output a softmax over each character in the vocabulary, and then sample from this distribution to predict the next character.\n",
        "\n",
        "As we introduced in the first portion of this lab, we'll be using PyTorch's [`nn.Module`](https://pytorch.org/docs/stable/generated/torch.nn.Module.html) to define the model. Three components are used to define the model:\n",
        "\n",
        "* [`nn.Embedding`](https://pytorch.org/docs/stable/generated/torch.nn.Embedding.html): This is the input layer, consisting of a trainable lookup table that maps the numbers of each character to a vector with `embedding_dim` dimensions.\n",
        "* [`nn.LSTM`](https://pytorch.org/docs/stable/generated/torch.nn.LSTM.html): Our LSTM network, with size `hidden_size`.\n",
        "* [`nn.Linear`](https://pytorch.org/docs/stable/generated/torch.nn.Linear.html): The output layer, with `vocab_size` outputs.\n",
        "\n",
        "<img src=\"https://raw.githubusercontent.com/MITDeepLearning/introtodeeplearning/2019/lab1/img/lstm_unrolled-01-01.png\" alt=\"Drawing\"/>\n",
        "\n",
        "\n",
        "\n",
        "<!--\n",
        "Now we're ready to define and train a RNN model on our ABC music dataset, and then use that trained model to generate a new song. We'll train our RNN using batches of song snippets from our dataset, which we generated in the previous section.\n",
        "\n",
        "The model is based off the LSTM architecture, where we use a state vector to maintain information about the temporal relationships between consecutive characters. The final output of the LSTM is then fed into a fully connected [`Dense`](https://www.tensorflow.org/api_docs/python/tf/keras/layers/Dense) layer where we'll output a softmax over each character in the vocabulary, and then sample from this distribution to predict the next character.\n",
        "\n",
        "As we introduced in the first portion of this lab, we'll be using the Keras API, specifically, [`tf.keras.Sequential`](https://www.tensorflow.org/api_docs/python/tf/keras/models/Sequential), to define the model. Three layers are used to define the model:\n",
        "\n",
        "* [`tf.keras.layers.Embedding`](https://www.tensorflow.org/api_docs/python/tf/keras/layers/Embedding): This is the input layer, consisting of a trainable lookup table that maps the numbers of each character to a vector with `embedding_dim` dimensions.\n",
        "* [`tf.keras.layers.LSTM`](https://www.tensorflow.org/api_docs/python/tf/keras/layers/LSTM): Our LSTM network, with size `units=rnn_units`.\n",
        "* [`tf.keras.layers.Dense`](https://www.tensorflow.org/api_docs/python/tf/keras/layers/Dense): The output layer, with `vocab_size` outputs.\n",
        "\n",
        "\n",
        "<img src=\"https://raw.githubusercontent.com/MITDeepLearning/introtodeeplearning/2019/lab1/img/lstm_unrolled-01-01.png\" alt=\"Drawing\"/> -->"
      ]
    },
    {
      "cell_type": "markdown",
      "metadata": {
        "id": "rlaOqndqBmJo"
      },
      "source": [
        "### Define the RNN model\n",
        "\n",
        "Let's define our model as an `nn.Module`. Fill in the `TODOs` to define the RNN model.\n"
      ]
    },
    {
      "cell_type": "code",
      "execution_count": null,
      "metadata": {
        "id": "8DsWzojvkbc7"
      },
      "outputs": [],
      "source": [
        "### Defining the RNN Model ###\n",
        "\n",
        "'''TODO: Add LSTM and Linear layers to define the RNN model using nn.Module'''\n",
        "class LSTMModel(nn.Module):\n",
        "    def __init__(self, vocab_size, embedding_dim, hidden_size):\n",
        "        super(LSTMModel, self).__init__()\n",
        "        self.hidden_size = hidden_size\n",
        "\n",
        "        # Define each of the network layers\n",
        "        # Layer 1: Embedding layer to transform indices into dense vectors\n",
        "        #   of a fixed embedding size\n",
        "        self.embedding = nn.Embedding(vocab_size, embedding_dim)\n",
        "\n",
        "        '''TODO: Layer 2: LSTM with hidden_size `hidden_size`. note: number of layers defaults to 1.\n",
        "         Use the nn.LSTM() module from pytorch.'''\n",
        "         # batch_first=True -> # TODO: ver!\n",
        "        self.lstm = nn.LSTM(input_size=embedding_dim, hidden_size=self.hidden_size, batch_first=True)\n",
        "\n",
        "        '''TODO: Layer 3: Linear (fully-connected) layer that transforms the LSTM output\n",
        "        #   into the vocabulary size.'''\n",
        "        self.fc = nn.Linear(in_features=hidden_size, out_features=vocab_size)\n",
        "\n",
        "    def init_hidden(self, batch_size, device):\n",
        "        # Initialize hidden state and cell state with zeros\n",
        "        return (torch.zeros(1, batch_size, self.hidden_size).to(device),\n",
        "                torch.zeros(1, batch_size, self.hidden_size).to(device))\n",
        "\n",
        "    def forward(self, x, state=None, return_state=False):\n",
        "        x = self.embedding(x)\n",
        "\n",
        "        if state is None:\n",
        "            state = self.init_hidden(x.size(0), x.device)\n",
        "        out, state = self.lstm(x, state)\n",
        "\n",
        "        out = self.fc(out)\n",
        "        return out if not return_state else (out, state)\n",
        "\n"
      ]
    },
    {
      "cell_type": "markdown",
      "metadata": {
        "id": "IbWU4dMJmMvq"
      },
      "source": [
        "The time has come! Let's instantiate the model!"
      ]
    },
    {
      "cell_type": "code",
      "execution_count": null,
      "metadata": {
        "id": "MtCrdfzEI2N0",
        "colab": {
          "base_uri": "https://localhost:8080/"
        },
        "outputId": "c3312152-4db6-494b-c6a2-6adec1fe14ff"
      },
      "outputs": [
        {
          "output_type": "stream",
          "name": "stdout",
          "text": [
            "LSTMModel(\n",
            "  (embedding): Embedding(83, 256)\n",
            "  (lstm): LSTM(256, 1024, batch_first=True)\n",
            "  (fc): Linear(in_features=1024, out_features=83, bias=True)\n",
            ")\n"
          ]
        }
      ],
      "source": [
        "# Instantiate the model! Build a simple model with default hyperparameters. You\n",
        "#     will get the chance to change these later.\n",
        "vocab_size = len(vocab)\n",
        "embedding_dim = 256\n",
        "hidden_size = 1024\n",
        "batch_size = 8\n",
        "\n",
        "device = torch.device(\"cuda\" if torch.cuda.is_available() else \"cpu\")\n",
        "\n",
        "model = LSTMModel(vocab_size, embedding_dim, hidden_size).to(device)\n",
        "\n",
        "# print out a summary of the model\n",
        "print(model)"
      ]
    },
    {
      "cell_type": "markdown",
      "metadata": {
        "id": "-ubPo0_9Prjb"
      },
      "source": [
        "### Test out the RNN model\n",
        "\n",
        "It's always a good idea to run a few simple checks on our model to see that it behaves as expected.  \n",
        "\n",
        "We can quickly check the layers in the model, the shape of the output of each of the layers, the batch size, and the dimensionality of the output. Note that the model can be run on inputs of any length."
      ]
    },
    {
      "cell_type": "code",
      "execution_count": null,
      "metadata": {
        "id": "C-_70kKAPrPU",
        "colab": {
          "base_uri": "https://localhost:8080/"
        },
        "outputId": "acf73d11-bdb8-4d3a-faae-c008005ff0ca"
      },
      "outputs": [
        {
          "output_type": "stream",
          "name": "stdout",
          "text": [
            "[163290 125041  55702   1516  72178 113578  25091  96607  60592  60930\n",
            "  45374  42209  63539  55572  34564  43605  94706 126300  21963  23682\n",
            " 189606 188149 134399  43478  73779 153949  23730  97977  49886 151511\n",
            "  57880  99790]\n",
            "Input shape:       torch.Size([32, 100])  # (batch_size, sequence_length)\n",
            "Prediction shape:  torch.Size([32, 100, 83]) # (batch_size, sequence_length, vocab_size)\n"
          ]
        }
      ],
      "source": [
        "# Test the model with some sample data\n",
        "x, y = get_batch(vectorized_songs, seq_length=100, batch_size=32)\n",
        "x = x.to(device)\n",
        "y = y.to(device)\n",
        "\n",
        "pred = model(x)\n",
        "print(\"Input shape:      \", x.shape, \" # (batch_size, sequence_length)\")\n",
        "print(\"Prediction shape: \", pred.shape, \"# (batch_size, sequence_length, vocab_size)\")"
      ]
    },
    {
      "cell_type": "markdown",
      "metadata": {
        "id": "mT1HvFVUGpoE"
      },
      "source": [
        "### Predictions from the untrained model\n",
        "\n",
        "Let's take a look at what our untrained model is predicting.\n",
        "\n",
        "To get actual predictions from the model, we sample from the output distribution, which is defined by a torch.softmax over our character vocabulary. This will give us actual character indices. This means we are using a [categorical distribution](https://en.wikipedia.org/wiki/Categorical_distribution) to sample over the example prediction. This gives a prediction of the next character (specifically its index) at each timestep. [`torch.multinomial`](https://pytorch.org/docs/stable/generated/torch.multinomial.html#torch.multinomial) samples over a categorical distribution to generate predictions.\n",
        "\n",
        "Note here that we sample from this probability distribution, as opposed to simply taking the `argmax`, which can cause the model to get stuck in a repetitive loop.\n",
        "\n",
        "Let's try this sampling out for the first example in the batch."
      ]
    },
    {
      "cell_type": "markdown",
      "metadata": {
        "id": "LfLtsP3mUhCG"
      },
      "source": [
        "We can now decode these to see the text predicted by the untrained model:"
      ]
    },
    {
      "cell_type": "code",
      "execution_count": null,
      "metadata": {
        "id": "4V4MfFg0RQJg",
        "colab": {
          "base_uri": "https://localhost:8080/"
        },
        "outputId": "6c9484e6-1c62-4d8e-e4de-009864fa8e3b"
      },
      "outputs": [
        {
          "output_type": "execute_result",
          "data": {
            "text/plain": [
              "array([73, 50, 42, 27, 41, 15, 60, 75, 60,  6, 38, 25, 76, 41, 55, 65,  7,\n",
              "       61, 57,  2,  9, 35, 35, 40, 30, 27, 65, 73, 34,  3, 13, 49, 73,  8,\n",
              "       41, 15, 63, 27, 48, 15, 49, 25, 16, 44, 14, 79, 73, 58, 68, 64, 36,\n",
              "        5, 81, 59, 37, 52, 15, 16, 20, 71,  5, 72, 21, 52, 14, 34, 52, 39,\n",
              "       26, 48, 35, 62,  4, 70, 59, 57, 35,  4, 19, 32, 79, 64, 16, 52, 37,\n",
              "       82, 38, 22, 46, 68, 33, 15, 60, 44, 70, 80, 14, 56, 49, 21])"
            ]
          },
          "metadata": {},
          "execution_count": 31
        }
      ],
      "source": [
        "sampled_indices = torch.multinomial(torch.softmax(pred[0], dim=-1), num_samples=1)\n",
        "sampled_indices = sampled_indices.squeeze(-1).cpu().numpy()\n",
        "sampled_indices"
      ]
    },
    {
      "cell_type": "code",
      "execution_count": null,
      "metadata": {
        "id": "xWcFwPwLSo05",
        "colab": {
          "base_uri": "https://localhost:8080/"
        },
        "outputId": "fed68590-74b8-4c17-9db9-3ba6a65abcdd"
      },
      "outputs": [
        {
          "output_type": "stream",
          "name": "stdout",
          "text": [
            "Input: \n",
            " 'ga|bgf g3:|!\\n\\nX:16\\nT:Lock the Door\\nZ: id:dc-slide-17\\nM:6/8\\nL:1/8\\nK:E Dorian\\nB,|EDE BAG|FDF AFD|EDE B'\n",
            "\n",
            "Next Char Predictions: \n",
            " 'rYQBP3ete(M>uP_j)fb!-JJOEBjrI\"1Xr,P3hBW3X>4S2xrcmiK\\'zdL[348p\\'q9[2I[NAWJg#odbJ#7Gxi4[L|M:UmH3eSoy2aX9'\n"
          ]
        }
      ],
      "source": [
        "print(\"Input: \\n\", repr(\"\".join(idx2char[x[0].cpu()])))\n",
        "print()\n",
        "print(\"Next Char Predictions: \\n\", repr(\"\".join(idx2char[sampled_indices])))"
      ]
    },
    {
      "cell_type": "markdown",
      "metadata": {
        "id": "HEHHcRasIDm9"
      },
      "source": [
        "As you can see, the text predicted by the untrained model is pretty nonsensical! How can we do better? Well, we can train the network!"
      ]
    },
    {
      "cell_type": "markdown",
      "metadata": {
        "id": "LJL0Q0YPY6Ee"
      },
      "source": [
        "## 2.5 Training the model: loss and training operations\n",
        "\n",
        "Now it's time to train the model!\n",
        "\n",
        "At this point, we can think of our next character prediction problem as a standard classification problem. Given the previous state of the RNN, as well as the input at a given time step, we want to predict the class of the next character -- that is, to actually predict the next character.\n",
        "\n",
        "To train our model on this classification task, we can use a form of the `crossentropy` loss (i.e., negative log likelihood loss). Specifically, we will use PyTorch's [`CrossEntropyLoss`](https://pytorch.org/docs/stable/generated/torch.nn.CrossEntropyLoss.html), as it combines the application of a log-softmax ([`LogSoftmax`](https://pytorch.org/docs/stable/generated/torch.nn.LogSoftmax.html#torch.nn.LogSoftmax)) and negative log-likelihood ([`NLLLoss`](https://pytorch.org/docs/stable/generated/torch.nn.NLLLoss.html#torch.nn.NLLLoss) in a single class and accepts integer targets for categorical classification tasks. We will want to compute the loss using the true targets -- the `labels` -- and the predicted targets -- the `logits`.\n",
        "\n",
        "Let's define a function to compute the loss, and then use that function to compute the loss using our example predictions from the untrained model."
      ]
    },
    {
      "cell_type": "code",
      "execution_count": null,
      "metadata": {
        "id": "4HrXTACTdzY-"
      },
      "outputs": [],
      "source": [
        "### Defining the loss function ###\n",
        "\n",
        "# '''TODO: define the compute_loss function to compute and return the loss between\n",
        "#     the true labels and predictions (logits). '''\n",
        "cross_entropy = nn.CrossEntropyLoss() # instantiates the function\n",
        "def compute_loss(labels, logits):\n",
        "    \"\"\"\n",
        "    Inputs:\n",
        "      labels: (batch_size, sequence_length)\n",
        "      logits: (batch_size, sequence_length, vocab_size)\n",
        "\n",
        "    Output:\n",
        "      loss: scalar cross entropy loss over the batch and sequence length\n",
        "    \"\"\"\n",
        "\n",
        "    # Batch the labels so that the shape of the labels should be (B * L,)\n",
        "    batched_labels = labels.view(-1)\n",
        "    print(batched_labels.shape)\n",
        "\n",
        "    ''' TODO: Batch the logits so that the shape of the logits should be (B * L, V) '''\n",
        "    batched_logits = logits.view(-1,logits.size(-1))\n",
        "    print(batched_logits.shape)\n",
        "\n",
        "    '''TODO: Compute the cross-entropy loss using the batched  next characters and predictions'''\n",
        "    # check this\n",
        "    loss = cross_entropy(batched_logits, batched_labels)\n",
        "    return loss"
      ]
    },
    {
      "cell_type": "code",
      "source": [
        "### compute the loss on the predictions from the untrained model from earlier. ###\n",
        "y.shape  # (batch_size, sequence_length)\n",
        "pred.shape  # (batch_size, sequence_length, vocab_size)\n",
        "\n",
        "'''TODO: compute the loss using the true next characters from the example batch\n",
        "    and the predictions from the untrained model several cells above'''\n",
        "example_batch_loss = compute_loss(y, pred) # TODO\n",
        "\n",
        "print(f\"Prediction shape: {pred.shape} # (batch_size, sequence_length, vocab_size)\")\n",
        "print(f\"scalar_loss:      {example_batch_loss.mean().item()}\")"
      ],
      "metadata": {
        "id": "GuGUJB0ZT_Uo",
        "colab": {
          "base_uri": "https://localhost:8080/"
        },
        "outputId": "66e32ef1-3fe4-4281-a074-55bc2b4084bc"
      },
      "execution_count": null,
      "outputs": [
        {
          "output_type": "stream",
          "name": "stdout",
          "text": [
            "torch.Size([3200])\n",
            "torch.Size([3200, 83])\n",
            "Prediction shape: torch.Size([32, 100, 83]) # (batch_size, sequence_length, vocab_size)\n",
            "scalar_loss:      4.410121917724609\n"
          ]
        }
      ]
    },
    {
      "cell_type": "markdown",
      "metadata": {
        "id": "0Seh7e6eRqd7"
      },
      "source": [
        "Let's start by defining some hyperparameters for training the model. To start, we have provided some reasonable values for some of the parameters. It is up to you to use what we've learned in class to help optimize the parameter selection here!"
      ]
    },
    {
      "cell_type": "code",
      "execution_count": null,
      "metadata": {
        "id": "JQWUUhKotkAY"
      },
      "outputs": [],
      "source": [
        "### Hyperparameter setting and optimization ###\n",
        "\n",
        "vocab_size = len(vocab)\n",
        "\n",
        "# Model parameters:\n",
        "params = dict(\n",
        "  num_training_iterations = 3000,  # Increase this to train longer\n",
        "  batch_size = 8,  # Experiment between 1 and 64\n",
        "  seq_length = 100,  # Experiment between 50 and 500\n",
        "  learning_rate = 5e-3,  # Experiment between 1e-5 and 1e-1\n",
        "  embedding_dim = 256,\n",
        "  hidden_size = 1024,  # Experiment between 1 and 2048\n",
        ")\n",
        "\n",
        "# Checkpoint location:\n",
        "checkpoint_dir = './training_checkpoints'\n",
        "checkpoint_prefix = os.path.join(checkpoint_dir, \"my_ckpt\")\n",
        "os.makedirs(checkpoint_dir, exist_ok=True)"
      ]
    },
    {
      "cell_type": "markdown",
      "metadata": {
        "id": "AyLzIPeAIqfg"
      },
      "source": [
        "Having defined our hyperparameters we can set up for experiment tracking with Comet. [`Experiment`](https://www.comet.com/docs/v2/api-and-sdk/python-sdk/reference/Experiment/) are the core objects in Comet and will allow us to track training and model development. Here we have written a short function to create a new Comet experiment. Note that in this setup, when hyperparameters change, you can run the `create_experiment()` function to initiate a new experiment. All experiments defined with the same `project_name` will live under that project in your Comet interface.\n",
        "\n"
      ]
    },
    {
      "cell_type": "code",
      "execution_count": null,
      "metadata": {
        "id": "MBsN1vvxInmN"
      },
      "outputs": [],
      "source": [
        "### Create a Comet experiment to track our training run ###\n",
        "\n",
        "def create_experiment():\n",
        "  # end any prior experiments\n",
        "  if 'experiment' in locals():\n",
        "    experiment.end()\n",
        "\n",
        "  # initiate the comet experiment for tracking\n",
        "  experiment = comet_ml.Experiment(\n",
        "                  api_key=COMET_API_KEY,\n",
        "                  project_name=\"6S191_Lab1_Part2\")\n",
        "  # log our hyperparameters, defined above, to the experiment\n",
        "  for param, value in params.items():\n",
        "    experiment.log_parameter(param, value)\n",
        "  experiment.flush()\n",
        "\n",
        "  return experiment"
      ]
    },
    {
      "cell_type": "markdown",
      "metadata": {
        "id": "5cu11p1MKYZd"
      },
      "source": [
        "Now, we are ready to define our training operation -- the optimizer and duration of training -- and use this function to train the model. You will experiment with the choice of optimizer and the duration for which you train your models, and see how these changes affect the network's output. Some optimizers you may like to try are [`Adam`](https://pytorch.org/docs/stable/generated/torch.optim.Adam.html) and [`Adagrad`](https://pytorch.org/docs/stable/generated/torch.optim.Adagrad.html).\n",
        "\n",
        "First, we will instantiate a new model and an optimizer, and ready them for training. Then, we will use [`loss.backward()`](https://pytorch.org/docs/stable/generated/torch.Tensor.backward.html), enabled by PyTorch's [autograd](https://pytorch.org/docs/stable/generated/torch.autograd.grad.html) method, to perform the backpropagation. Finally, to update the model's parameters based on the computed gradients, we will utake a step with the optimizer, using [`optimizer.step()`](https://pytorch.org/docs/stable/generated/torch.optim.Optimizer.step.html).\n",
        "\n",
        "We will also generate a print-out of the model's progress through training, which will help us easily visualize whether or not we are minimizing the loss."
      ]
    },
    {
      "cell_type": "markdown",
      "metadata": {
        "id": "kKkD5M6eoSiN"
      },
      "source": [
        "## 2.6 Generate music using the RNN model\n",
        "\n",
        "Now, we can use our trained RNN model to generate some music! When generating music, we'll have to feed the model some sort of seed to get it started (because it can't predict anything without something to start with!).\n",
        "\n",
        "Once we have a generated seed, we can then iteratively predict each successive character (remember, we are using the ABC representation for our music) using our trained RNN. More specifically, recall that our RNN outputs a `softmax` over possible successive characters. For inference, we iteratively sample from these distributions, and then use our samples to encode a generated song in the ABC format.\n",
        "\n",
        "Then, all we have to do is write it to a file and listen!"
      ]
    },
    {
      "cell_type": "code",
      "execution_count": null,
      "metadata": {
        "id": "F31vzJ_u66cb",
        "colab": {
          "base_uri": "https://localhost:8080/",
          "height": 1000
        },
        "outputId": "b5264d58-a7fe-4ac2-852e-d54f7bdf13e9"
      },
      "outputs": [
        {
          "output_type": "display_data",
          "data": {
            "text/plain": [
              "<Figure size 640x480 with 1 Axes>"
            ],
            "image/png": "[encoded data removed]"
          },
          "metadata": {}
        },
        {
          "output_type": "stream",
          "name": "stderr",
          "text": [
            "\r 91%|█████████▏| 2740/3000 [00:21<00:02, 94.40it/s] "
          ]
        },
        {
          "output_type": "stream",
          "name": "stdout",
          "text": [
            "[176421  95934 141613 173998  15801  33468  39543  45607]\n",
            "torch.Size([800])\n",
            "torch.Size([800, 83])\n",
            "[ 77848 186284  50387 114503 147125 117585  18466 157752]\n",
            "torch.Size([800])\n",
            "torch.Size([800, 83])\n",
            "[115653   5545 159355 195004 111193 200454  20273 116992]\n",
            "torch.Size([800])\n",
            "torch.Size([800, 83])\n",
            "[ 30392  15480  24657  89088 136762 169718 130251 145839]\n",
            "torch.Size([800])\n",
            "torch.Size([800, 83])\n",
            "[182834 155430 159812 159753 154047 109169 190633  79455]\n",
            "torch.Size([800])\n",
            "torch.Size([800, 83])\n",
            "[107864  20683 141438  33571  85093  42834  56272    902]\n",
            "torch.Size([800])\n",
            "torch.Size([800, 83])\n",
            "[195511 132457  97572  30113   1704 185676  87471 161801]\n",
            "torch.Size([800])\n",
            "torch.Size([800, 83])\n",
            "[ 76162  40910 128748  72693  31849 153392 186559 122468]\n",
            "torch.Size([800])\n",
            "torch.Size([800, 83])\n",
            "[ 72027 162518  53241 105462 198745  90394 164107  83701]\n",
            "torch.Size([800])\n",
            "torch.Size([800, 83])\n",
            "[ 82797  85567  97728  91960 111246  55553 113108 198291]\n",
            "torch.Size([800])\n",
            "torch.Size([800, 83])\n",
            "[ 13645 178582  80429  41768  85609  48131 124092 163284]\n",
            "torch.Size([800])\n",
            "torch.Size([800, 83])\n",
            "[191939 109480  19468 179572  52067  24960  46077  60808]\n",
            "torch.Size([800])\n",
            "torch.Size([800, 83])\n",
            "[193688  11259  10933 106992   1123  57463 126947  91979]\n",
            "torch.Size([800])\n",
            "torch.Size([800, 83])\n",
            "[ 81635  74281 149643 174586  95522 162388 145102 161941]\n",
            "torch.Size([800])\n",
            "torch.Size([800, 83])\n",
            "[ 20018  46067 166312 129060  69466 132783 130692 157127]\n",
            "torch.Size([800])\n",
            "torch.Size([800, 83])\n",
            "[ 92034 177422  37179  27656  91835 141464  92845  71224]\n",
            "torch.Size([800])\n",
            "torch.Size([800, 83])\n",
            "[ 44411  43096 161043 173680  21242 144279  76249 109738]\n",
            "torch.Size([800])\n",
            "torch.Size([800, 83])\n",
            "[124906 129925  59824 170436    728 152757   3923 161747]\n",
            "torch.Size([800])\n",
            "torch.Size([800, 83])\n",
            "[112663  43255  72814  86432 167644 104160 178618  12828]\n",
            "torch.Size([800])\n",
            "torch.Size([800, 83])\n"
          ]
        },
        {
          "output_type": "stream",
          "name": "stderr",
          "text": [
            " 92%|█████████▏| 2767/3000 [00:21<00:02, 109.70it/s]"
          ]
        },
        {
          "output_type": "stream",
          "name": "stdout",
          "text": [
            "[127109  75734  29731 150031 146067   8783  87249  24201]\n",
            "torch.Size([800])\n",
            "torch.Size([800, 83])\n",
            "[ 12398 114008 159909 128954 175607 110156 151058 134331]\n",
            "torch.Size([800])\n",
            "torch.Size([800, 83])\n",
            "[134221  63489  12263  12554 118339  89871 132666  12761]\n",
            "torch.Size([800])\n",
            "torch.Size([800, 83])\n",
            "[198460  62169   1648  84149 102004  54466  33020  78813]\n",
            "torch.Size([800])\n",
            "torch.Size([800, 83])\n",
            "[152573    718  87257 177684 104332  97285  78443  32233]\n",
            "torch.Size([800])\n",
            "torch.Size([800, 83])\n",
            "[ 67747  80341   1959  43731 143154  22053 123412  91948]\n",
            "torch.Size([800])\n",
            "torch.Size([800, 83])\n",
            "[ 43803 198588  11455  46172  12019 124340  65980    768]\n",
            "torch.Size([800])\n",
            "torch.Size([800, 83])\n",
            "[ 87520  35894 159694  43453  12326 170395 181791 104917]\n",
            "torch.Size([800])\n",
            "torch.Size([800, 83])\n",
            "[ 29409  58730 158055  58913  78701 121341  87450  45394]\n",
            "torch.Size([800])\n",
            "torch.Size([800, 83])\n",
            "[194459 120436  52316  84178 167405 198336  93076 153355]\n",
            "torch.Size([800])\n",
            "torch.Size([800, 83])\n",
            "[ 21906  97157  97903 193473 188566 122685  60210 108448]\n",
            "torch.Size([800])\n",
            "torch.Size([800, 83])\n",
            "[111303 177177 118039 106335  93981  80558  33566  51751]\n",
            "torch.Size([800])\n",
            "torch.Size([800, 83])\n",
            "[142526 152910 114345  60521 199200  11100 128330 131204]\n",
            "torch.Size([800])\n",
            "torch.Size([800, 83])\n",
            "[ 79187 163195  42869  40805  46175  78535 198369  14125]\n",
            "torch.Size([800])\n",
            "torch.Size([800, 83])\n",
            "[102189 124178   2370  47233  63273 195766  55105  66959]\n",
            "torch.Size([800])\n",
            "torch.Size([800, 83])\n",
            "[175066  97806 125589 164434  80051  68168  19986  97644]\n",
            "torch.Size([800])\n",
            "torch.Size([800, 83])\n",
            "[ 18873  81972   3598  71310  20453 115030  22003 173937]\n",
            "torch.Size([800])\n",
            "torch.Size([800, 83])\n",
            "[199892 185903  14256  47300 127848  12874 123117 116138]\n",
            "torch.Size([800])\n",
            "torch.Size([800, 83])\n",
            "[ 65134  71830  12174 101803  96294  23224  64689 139811]\n",
            "torch.Size([800])\n",
            "torch.Size([800, 83])\n",
            "[119918  93039 146037 169627 110649 130481   6594 164528]\n",
            "torch.Size([800])\n",
            "torch.Size([800, 83])\n",
            "[ 80458 194115  44232 106200 133451  57194 104976 147363]\n",
            "torch.Size([800])\n",
            "torch.Size([800, 83])\n",
            "[153883 140926 175920 165515  57552  88795   3601 163962]\n",
            "torch.Size([800])\n",
            "torch.Size([800, 83])\n",
            "[ 70000 149288  57399 198396 147560  76712 141599  20202]\n",
            "torch.Size([800])\n",
            "torch.Size([800, 83])\n",
            "[188614 141581 190130  78392  40697  77062 151790 182833]\n",
            "torch.Size([800])\n",
            "torch.Size([800, 83])\n",
            "[160656 165530  61172  24054  87409 197876 124411 157432]\n",
            "torch.Size([800])\n",
            "torch.Size([800, 83])\n",
            "[ 58199  25166 100935 185129 158024  79144  15882  46041]\n",
            "torch.Size([800])\n",
            "torch.Size([800, 83])\n",
            "[128613 183047 106426  20049  91769  12162  92242  23013]\n",
            "torch.Size([800])\n",
            "torch.Size([800, 83])\n",
            "[ 55703 118548 115034  47996  60438 169759  51009  87804]\n",
            "torch.Size([800])\n",
            "torch.Size([800, 83])\n",
            "[157336 127283  41245 124901 137875 181352  24381 120825]\n",
            "torch.Size([800])\n",
            "torch.Size([800, 83])\n"
          ]
        },
        {
          "output_type": "stream",
          "name": "stderr",
          "text": [
            " 93%|█████████▎| 2797/3000 [00:21<00:01, 126.35it/s]"
          ]
        },
        {
          "output_type": "stream",
          "name": "stdout",
          "text": [
            "[ 85439  74373  56781  10364  98929  15929 106257  15635]\n",
            "torch.Size([800])\n",
            "torch.Size([800, 83])\n",
            "[ 67177   1201  46968 183717 183576 112101  73411 188939]\n",
            "torch.Size([800])\n",
            "torch.Size([800, 83])\n",
            "[154087 156285 156811  66861  42105 153079  39734 170765]\n",
            "torch.Size([800])\n",
            "torch.Size([800, 83])\n",
            "[108058  44279 140257  23393 115961  48254  94543 197382]\n",
            "torch.Size([800])\n",
            "torch.Size([800, 83])\n",
            "[ 95436 125604  76748 102592  12269 167569  28792 200420]\n",
            "torch.Size([800])\n",
            "torch.Size([800, 83])\n",
            "[ 90227   3700 140850  81252  18557  25653 130321  89756]\n",
            "torch.Size([800])\n",
            "torch.Size([800, 83])\n",
            "[ 53633 199247   3296 138775   9437  47102 143364 152763]\n",
            "torch.Size([800])\n",
            "torch.Size([800, 83])\n",
            "[ 88306  12202 162805 136796 163838 129805 152560 130825]\n",
            "torch.Size([800])\n",
            "torch.Size([800, 83])\n",
            "[ 20980  57322 166399 164487  31924  68550  33853  54385]\n",
            "torch.Size([800])\n",
            "torch.Size([800, 83])\n",
            "[100683 121004 127786 161056 145358 197472 150357  60176]\n",
            "torch.Size([800])\n",
            "torch.Size([800, 83])\n",
            "[148900  11225 136854  50983  17384 175241 140766  76603]\n",
            "torch.Size([800])\n",
            "torch.Size([800, 83])\n",
            "[ 63813  11598 140832  21908 130693 119479 159042 113478]\n",
            "torch.Size([800])\n",
            "torch.Size([800, 83])\n",
            "[100258  27146  35525  95997 159921 109065  42395 128521]\n",
            "torch.Size([800])\n",
            "torch.Size([800, 83])\n",
            "[ 69974  68754 132937  41201  44386 106353 135063 158232]\n",
            "torch.Size([800])\n",
            "torch.Size([800, 83])\n",
            "[189891  45860  34597  21382 160838 141755 182201 138970]\n",
            "torch.Size([800])\n",
            "torch.Size([800, 83])\n",
            "[ 80172  74414 139491  33988  40746  96903 137735   6790]\n",
            "torch.Size([800])\n",
            "torch.Size([800, 83])\n",
            "[ 18207 180077 112419  36441  62717  66563  43327  48410]\n",
            "torch.Size([800])\n",
            "torch.Size([800, 83])\n",
            "[ 21427   8042  65817 167079  37683 113996  17500 123532]\n",
            "torch.Size([800])\n",
            "torch.Size([800, 83])\n",
            "[ 17807  68460 197450 191256 170014  88267 143583 119693]\n",
            "torch.Size([800])\n",
            "torch.Size([800, 83])\n",
            "[184144  94655  20782  21890  29305  24573  48461 172851]\n",
            "torch.Size([800])\n",
            "torch.Size([800, 83])\n",
            "[165043  91001   7776 118575 154727 115062 139914  46048]\n",
            "torch.Size([800])\n",
            "torch.Size([800, 83])\n",
            "[110858  72559  91463 170644 190112  55117  93725  92600]\n",
            "torch.Size([800])\n",
            "torch.Size([800, 83])\n",
            "[ 96561 180746  35769  61689  81326  33785 183821  62628]\n",
            "torch.Size([800])\n",
            "torch.Size([800, 83])\n",
            "[175106  78945 154148  60698   2950 129025  63428 107435]\n",
            "torch.Size([800])\n",
            "torch.Size([800, 83])\n",
            "[ 44937  64397 123477 173797  53370  30038 198697 165182]\n",
            "torch.Size([800])\n",
            "torch.Size([800, 83])\n"
          ]
        },
        {
          "output_type": "stream",
          "name": "stderr",
          "text": [
            " 94%|█████████▍| 2827/3000 [00:22<00:01, 129.22it/s]"
          ]
        },
        {
          "output_type": "stream",
          "name": "stdout",
          "text": [
            "[156158 180451  53578 153117    377   4191  24803 119863]\n",
            "torch.Size([800])\n",
            "torch.Size([800, 83])\n",
            "[103985 173196 189066 102279  75907  59793 160935  53923]\n",
            "torch.Size([800])\n",
            "torch.Size([800, 83])\n",
            "[ 98188  31515 166269 189741  90907  31923 171369  80977]\n",
            "torch.Size([800])\n",
            "torch.Size([800, 83])\n",
            "[139552 190966  47028  89353  59880 164843 181470 192727]\n",
            "torch.Size([800])\n",
            "torch.Size([800, 83])\n",
            "[114131  72980 189907  73685 120411  96210  56061 133227]\n",
            "torch.Size([800])\n",
            "torch.Size([800, 83])\n",
            "[184823 167027 115296 147111  32342 123338  46878  72818]\n",
            "torch.Size([800])\n",
            "torch.Size([800, 83])\n",
            "[ 72332  13802 188235 169998  53852   3442  28297  83793]\n",
            "torch.Size([800])\n",
            "torch.Size([800, 83])\n",
            "[   437 106312  87798 162813   1195  31356 192597 144226]\n",
            "torch.Size([800])\n",
            "torch.Size([800, 83])\n",
            "[149436 183463  68188  97787 185113 188423 158664  62089]\n",
            "torch.Size([800])\n",
            "torch.Size([800, 83])\n",
            "[154105 192566 150120  62900 121514  44970 142332   8768]\n",
            "torch.Size([800])\n",
            "torch.Size([800, 83])\n",
            "[173973  21700 186399 106941 171956 140124  27300  76522]\n",
            "torch.Size([800])\n",
            "torch.Size([800, 83])\n",
            "[ 93363 178810  41897  90929 124360  90313  26734  73027]\n",
            "torch.Size([800])\n",
            "torch.Size([800, 83])\n",
            "[115936 102041 167958 149977   9141 116601  15805  11429]\n",
            "torch.Size([800])\n",
            "torch.Size([800, 83])\n",
            "[109592 157647 108420  39390 179394   2620 167544  22647]\n",
            "torch.Size([800])\n",
            "torch.Size([800, 83])\n",
            "[193309  83704 168243  41376  44841  67496  37566  73494]\n",
            "torch.Size([800])\n",
            "torch.Size([800, 83])\n",
            "[ 98359 161357  47113 149214  97345 172450  52582 119788]\n",
            "torch.Size([800])\n",
            "torch.Size([800, 83])\n",
            "[ 88081 194499  32007 187325  37789 161150  59317 108631]\n",
            "torch.Size([800])\n",
            "torch.Size([800, 83])\n",
            "[188503  81606 135836 154519   5053 121805  43495 114867]\n",
            "torch.Size([800])\n",
            "torch.Size([800, 83])\n",
            "[168894 169808 193275  72319 164007  53082 155239 160774]\n",
            "torch.Size([800])\n",
            "torch.Size([800, 83])\n",
            "[189113 190959 199389  44700  94298 137039 128909 174154]\n",
            "torch.Size([800])\n",
            "torch.Size([800, 83])\n",
            "[ 92374  50522 161741 163944 154532 117295 173923 116183]\n",
            "torch.Size([800])\n",
            "torch.Size([800, 83])\n",
            "[ 22329  21114  18459  60609 102086 139793  46691  22595]\n",
            "torch.Size([800])\n",
            "torch.Size([800, 83])\n",
            "[140988  26797 116094 108855  24015 154697 135677  40820]\n",
            "torch.Size([800])\n",
            "torch.Size([800, 83])\n",
            "[  1362 190919   8703  63050  16562 196414  51200  46456]\n",
            "torch.Size([800])\n",
            "torch.Size([800, 83])\n",
            "[151867  46438  57566  55095 136163 160080  73871 102264]\n",
            "torch.Size([800])\n",
            "torch.Size([800, 83])\n",
            "[ 66132   7656 130005  22447 128468 159404 131809  25069]\n",
            "torch.Size([800])\n",
            "torch.Size([800, 83])\n",
            "[179075 111441 181983  19294 135632  90311  68120 153144]\n",
            "torch.Size([800])\n",
            "torch.Size([800, 83])\n",
            "[ 62914  90120 143967  12677 156845  65554  77233 135738]\n",
            "torch.Size([800])\n",
            "torch.Size([800, 83])\n",
            "[189957  13420 181202 121693  11083 101497 123755 114826]\n",
            "torch.Size([800])\n",
            "torch.Size([800, 83])\n",
            "[ 30687 118643 164739  69613  52438 198206  56999  71521]\n",
            "torch.Size([800])\n",
            "torch.Size([800, 83])\n",
            "[124260 182987  92564  88940 163156  31668 138586  26259]\n",
            "torch.Size([800])\n",
            "torch.Size([800, 83])\n"
          ]
        },
        {
          "output_type": "stream",
          "name": "stderr",
          "text": [
            " 95%|█████████▌| 2859/3000 [00:22<00:01, 140.86it/s]"
          ]
        },
        {
          "output_type": "stream",
          "name": "stdout",
          "text": [
            "[ 89919 131299 104047  44208 103506  44469  25806 156688]\n",
            "torch.Size([800])\n",
            "torch.Size([800, 83])\n",
            "[100807  60307 127715 192182 104668 101778 164145  13976]\n",
            "torch.Size([800])\n",
            "torch.Size([800, 83])\n",
            "[193985  71116 122032 146001 108778 193190 188002  27743]\n",
            "torch.Size([800])\n",
            "torch.Size([800, 83])\n",
            "[ 95791 175448  56331 150006  81928  62567   6950 135653]\n",
            "torch.Size([800])\n",
            "torch.Size([800, 83])\n",
            "[ 13514  50438  95425 130226 108714  88372  49649 182576]\n",
            "torch.Size([800])\n",
            "torch.Size([800, 83])\n",
            "[ 89559  16599 147325 145885 102737  61690  30138  73951]\n",
            "torch.Size([800])\n",
            "torch.Size([800, 83])\n",
            "[111055 117307 139684  51797 102811   4417  93631  79995]\n",
            "torch.Size([800])\n",
            "torch.Size([800, 83])\n",
            "[ 53572 102405 152601  33086  99423 126670  36698 177314]\n",
            "torch.Size([800])\n",
            "torch.Size([800, 83])\n",
            "[138175  48455 158647 169284 132410  92789 128116 144592]\n",
            "torch.Size([800])\n",
            "torch.Size([800, 83])\n",
            "[ 65366 198583 137848 131973 100998  62608 176970  28132]\n",
            "torch.Size([800])\n",
            "torch.Size([800, 83])\n",
            "[ 23715 141766 182574  75685 172705 109006  71869 113596]\n",
            "torch.Size([800])\n",
            "torch.Size([800, 83])\n",
            "[ 55599   3322  26880 131927  32335  94809 137232 134961]\n",
            "torch.Size([800])\n",
            "torch.Size([800, 83])\n",
            "[158391  83810  86695  42015 168534 100096  52094 105533]\n",
            "torch.Size([800])\n",
            "torch.Size([800, 83])\n",
            "[ 78537 138106 167925 117397  75151  67443  80177   7811]\n",
            "torch.Size([800])\n",
            "torch.Size([800, 83])\n",
            "[ 57847 187287 170716  36203 176164 161310  34551 161675]\n",
            "torch.Size([800])\n",
            "torch.Size([800, 83])\n",
            "[106128 173504  48864  31770 160926 154480  66295  37401]\n",
            "torch.Size([800])\n",
            "torch.Size([800, 83])\n",
            "[158088 127451  18619  69148  96128 134350  48993  13342]\n",
            "torch.Size([800])\n",
            "torch.Size([800, 83])\n",
            "[106348    504  20360 190752 144036   9079 116374   3145]\n",
            "torch.Size([800])\n",
            "torch.Size([800, 83])\n",
            "[ 93010  65051  24596  56265   9640  37333  70950 117510]\n",
            "torch.Size([800])\n",
            "torch.Size([800, 83])\n",
            "[187850 120712  52905  20965  67759 199437 109315  12601]\n",
            "torch.Size([800])\n",
            "torch.Size([800, 83])\n",
            "[ 65085 145623  16125  20920  11233  10535 101460  79730]\n",
            "torch.Size([800])\n",
            "torch.Size([800, 83])\n",
            "[ 28228  35183   1176 190490 154451 137427 186777 129925]\n",
            "torch.Size([800])\n",
            "torch.Size([800, 83])\n",
            "[ 69841 159138  18913 172874  82826  90683 107629  31737]\n",
            "torch.Size([800])\n",
            "torch.Size([800, 83])\n",
            "[162763 169765 177645 141438 186014 101075  43082  69623]\n",
            "torch.Size([800])\n",
            "torch.Size([800, 83])\n",
            "[101986 121651 188508  30762 151899 195392 103100  32284]\n",
            "torch.Size([800])\n",
            "torch.Size([800, 83])\n",
            "[133136 166572  35313  34088 191962 104438 104665   1472]\n",
            "torch.Size([800])\n",
            "torch.Size([800, 83])\n",
            "[141783 193100  24521 115854 125373  33327 109222 137399]\n",
            "torch.Size([800])\n",
            "torch.Size([800, 83])\n",
            "[ 22247 154292 156634  75903 169246 199708  81498 197873]\n",
            "torch.Size([800])\n",
            "torch.Size([800, 83])\n",
            "[153007 172394 122723 181001 107426 198744 116966 159170]\n",
            "torch.Size([800])\n",
            "torch.Size([800, 83])\n",
            "[ 51208 183975 115855 136562  24786 146114  78498 140699]\n",
            "torch.Size([800])\n",
            "torch.Size([800, 83])\n",
            "[ 38313  75109 156036 131617 171671  15273 158500  62113]\n",
            "torch.Size([800])\n",
            "torch.Size([800, 83])\n"
          ]
        },
        {
          "output_type": "stream",
          "name": "stderr",
          "text": [
            " 96%|█████████▋| 2890/3000 [00:22<00:00, 143.46it/s]"
          ]
        },
        {
          "output_type": "stream",
          "name": "stdout",
          "text": [
            "[ 99482 102646 193814  71830 121319 114181  21865 131063]\n",
            "torch.Size([800])\n",
            "torch.Size([800, 83])\n",
            "[161122  24826  18072  63955  37155 116028  18425   6514]\n",
            "torch.Size([800])\n",
            "torch.Size([800, 83])\n",
            "[ 57154 110366  50880 195882  87156  88236 168903  68231]\n",
            "torch.Size([800])\n",
            "torch.Size([800, 83])\n",
            "[ 31434 108208  31824 148899  82798  81557  47192  53553]\n",
            "torch.Size([800])\n",
            "torch.Size([800, 83])\n",
            "[105748  54233  59489 134248  75253  77330 189706 104523]\n",
            "torch.Size([800])\n",
            "torch.Size([800, 83])\n",
            "[ 29194 108027 187961  94476  79497  47390  47915  14314]\n",
            "torch.Size([800])\n",
            "torch.Size([800, 83])\n",
            "[141537  94038 195094  83084  45125 173074  28823 149675]\n",
            "torch.Size([800])\n",
            "torch.Size([800, 83])\n",
            "[   606  54504  99571  56850  78396  45368 174995 138949]\n",
            "torch.Size([800])\n",
            "torch.Size([800, 83])\n",
            "[ 48227 164319 193687  84842  21739  67118  13784 139304]\n",
            "torch.Size([800])\n",
            "torch.Size([800, 83])\n",
            "[ 40742 184333 146103 119049 153325  21010 149267 173689]\n",
            "torch.Size([800])\n",
            "torch.Size([800, 83])\n",
            "[185325 192170  65971  30588 104838  96922 121079 102253]\n",
            "torch.Size([800])\n",
            "torch.Size([800, 83])\n",
            "[  1282 138986 138026  34910 116959 118811  26502 140530]\n",
            "torch.Size([800])\n",
            "torch.Size([800, 83])\n",
            "[ 48634  53668  99284 130090  31558  62666 196549 148489]\n",
            "torch.Size([800])\n",
            "torch.Size([800, 83])\n",
            "[ 87923  15083  33649  58378 114127 147266  20485  66916]\n",
            "torch.Size([800])\n",
            "torch.Size([800, 83])\n",
            "[107333  50599 172610  71718 161011  19686 187619  19253]\n",
            "torch.Size([800])\n",
            "torch.Size([800, 83])\n",
            "[162311  14146  42804   9819  85765 120876  49583 159231]\n",
            "torch.Size([800])\n",
            "torch.Size([800, 83])\n",
            "[185363  25908 187652 178237 193680  62605 163840  77499]\n",
            "torch.Size([800])\n",
            "torch.Size([800, 83])\n",
            "[161692  22358 114183  77873  13525 126373 148543 140339]\n",
            "torch.Size([800])\n",
            "torch.Size([800, 83])\n",
            "[ 91469  44920  22823  55722  93893  84177 150204  12518]\n",
            "torch.Size([800])\n",
            "torch.Size([800, 83])\n",
            "[ 23032 119070 166874 143262  56272 140183 115677 164783]\n",
            "torch.Size([800])\n",
            "torch.Size([800, 83])\n",
            "[ 38668 151086 146901  91395  53772   5719   6109 148066]\n",
            "torch.Size([800])\n",
            "torch.Size([800, 83])\n",
            "[ 65201 145399  92676  98803  34166 135204 108981  11998]\n",
            "torch.Size([800])\n",
            "torch.Size([800, 83])\n",
            "[ 14178 160125  57281 195720  99721  49464  24067 137709]\n",
            "torch.Size([800])\n",
            "torch.Size([800, 83])\n",
            "[ 26793 124675 119758 128972  33058  11260 187028  47345]\n",
            "torch.Size([800])\n",
            "torch.Size([800, 83])\n",
            "[ 18203  45869  15601 115833 101440  42916  60562  39888]\n",
            "torch.Size([800])\n",
            "torch.Size([800, 83])\n",
            "[194218  22068 172164  77467 151200 105946   8706  54054]\n",
            "torch.Size([800])\n",
            "torch.Size([800, 83])\n",
            "[ 60871  79970 126356 143485 151446  19241 138320 122626]\n",
            "torch.Size([800])\n",
            "torch.Size([800, 83])\n",
            "[142608 109137  15068 106391 199133 192113 120369  62642]\n",
            "torch.Size([800])\n",
            "torch.Size([800, 83])\n",
            "[131843  65719  33581 121892 125743 133422  72094 117075]\n",
            "torch.Size([800])\n",
            "torch.Size([800, 83])\n",
            "[131935  87062    698 194928  29739  93135  51789  76146]\n"
          ]
        },
        {
          "output_type": "stream",
          "name": "stderr",
          "text": [
            "\r 97%|█████████▋| 2905/3000 [00:22<00:00, 131.77it/s]"
          ]
        },
        {
          "output_type": "stream",
          "name": "stdout",
          "text": [
            "torch.Size([800])\n",
            "torch.Size([800, 83])\n",
            "[ 66805  79172 144607  38337  31651 104545  54149  69567]\n",
            "torch.Size([800])\n",
            "torch.Size([800, 83])\n",
            "[163260  11986 194926 108588  49598 167533 127764 196747]\n",
            "torch.Size([800])\n",
            "torch.Size([800, 83])\n",
            "[160115  87574 181544  86606 118361   1246 106594 171034]\n",
            "torch.Size([800])\n",
            "torch.Size([800, 83])\n",
            "[134877  34670  13861 140069  78698 171498  68234   4802]\n",
            "torch.Size([800])\n",
            "torch.Size([800, 83])\n",
            "[134417 131991  46779  23135  85096   6155  96588  91780]\n",
            "torch.Size([800])\n",
            "torch.Size([800, 83])\n",
            "[ 21463  50774 105778  51822 150958 192563  90299  30990]\n",
            "torch.Size([800])\n",
            "torch.Size([800, 83])\n",
            "[120872 100494  91670 165438  83869  62183  68603 137830]\n",
            "torch.Size([800])\n",
            "torch.Size([800, 83])\n",
            "[156994  54587  26355  87161 187341 104381 133957  42796]\n",
            "torch.Size([800])\n",
            "torch.Size([800, 83])\n",
            "[ 63112 104838  49100   9478 147731 188162 198106 106541]\n",
            "torch.Size([800])\n",
            "torch.Size([800, 83])\n",
            "[ 89928 125938  22031  79696 174865 168396  78966 153836]\n",
            "torch.Size([800])\n",
            "torch.Size([800, 83])\n",
            "[137820  29936   7436 110858  22332 197774 172121 132443]\n",
            "torch.Size([800])\n",
            "torch.Size([800, 83])\n",
            "[171234  50237  93552 152181 114598 183171 159803 143157]\n",
            "torch.Size([800])\n",
            "torch.Size([800, 83])\n",
            "[188782  40144 199411  97868   3511 172472 166387  89203]\n",
            "torch.Size([800])\n",
            "torch.Size([800, 83])\n",
            "[  3269   6882  36055  42514  10752 176599  11083  85494]\n",
            "torch.Size([800])\n",
            "torch.Size([800, 83])\n",
            "[ 89566  73659 177903 157883 146718 117648  67296 170233]\n",
            "torch.Size([800])\n",
            "torch.Size([800, 83])\n",
            "[167045  72669  61141 175194 134473  40530 188980 194975]\n",
            "torch.Size([800])\n",
            "torch.Size([800, 83])\n",
            "[198595  95790 130387 187617 136947 132213 140132 162625]\n",
            "torch.Size([800])\n",
            "torch.Size([800, 83])\n",
            "[ 44892  88714  84849 125470 160745   1961    189  92960]\n",
            "torch.Size([800])\n",
            "torch.Size([800, 83])\n",
            "[ 82913 191277  82676  24889  31298 158585 157040  57526]\n",
            "torch.Size([800])\n",
            "torch.Size([800, 83])\n",
            "[177795 153590 156192 169546  40140  36850 116147 107709]\n",
            "torch.Size([800])\n",
            "torch.Size([800, 83])\n",
            "[ 43886 161549 104170 119443 155916  33122 145285 134173]\n",
            "torch.Size([800])\n",
            "torch.Size([800, 83])\n",
            "[ 40289  57964 169278 195713  39108  40035  25554  83497]\n",
            "torch.Size([800])\n",
            "torch.Size([800, 83])\n",
            "[193950 115648 128888  89567  17228  12043  19791 103380]\n",
            "torch.Size([800])\n",
            "torch.Size([800, 83])\n",
            "[ 44160  90851 139424  74399 146850 196804 110257 164482]\n",
            "torch.Size([800])\n",
            "torch.Size([800, 83])\n",
            "[ 59912  75972 104386 100041 104090 106313 169062  71972]\n",
            "torch.Size([800])\n",
            "torch.Size([800, 83])\n"
          ]
        },
        {
          "output_type": "stream",
          "name": "stderr",
          "text": [
            " 98%|█████████▊| 2937/3000 [00:22<00:00, 142.21it/s]"
          ]
        },
        {
          "output_type": "stream",
          "name": "stdout",
          "text": [
            "[185149 194786  72412  83663 122121 125012 114467 117185]\n",
            "torch.Size([800])\n",
            "torch.Size([800, 83])\n",
            "[ 18746  89543  24782 170778 133540 138223 182005  29434]\n",
            "torch.Size([800])\n",
            "torch.Size([800, 83])\n",
            "[124755  51897   7259  74885 199442  68428  63273 111701]\n",
            "torch.Size([800])\n",
            "torch.Size([800, 83])\n",
            "[149614   9640  84037 190866 191288 177646 199878   6608]\n",
            "torch.Size([800])\n",
            "torch.Size([800, 83])\n",
            "[ 98850   8992  43607 150025 106364 119618  83830 127083]\n",
            "torch.Size([800])\n",
            "torch.Size([800, 83])\n",
            "[ 52049 110579 100726 180104 127983  92339 144314 171305]\n",
            "torch.Size([800])\n",
            "torch.Size([800, 83])\n",
            "[190170 108299  10123 106360  65160  55808 189781 167304]\n",
            "torch.Size([800])\n",
            "torch.Size([800, 83])\n",
            "[134846  36329   2814  56350 180088  10358 113135 140897]\n",
            "torch.Size([800])\n",
            "torch.Size([800, 83])\n",
            "[195058 193534  17801 179379  94564  67660  11965 104816]\n",
            "torch.Size([800])\n",
            "torch.Size([800, 83])\n",
            "[ 33024 176083 141417 107107  93542  85689  58643 125329]\n",
            "torch.Size([800])\n",
            "torch.Size([800, 83])\n",
            "[ 35164 127219 155669 128606  53974  68534 195706 148301]\n",
            "torch.Size([800])\n",
            "torch.Size([800, 83])\n",
            "[118105  40835 126652   9689  17622  23176 183446 132199]\n",
            "torch.Size([800])\n",
            "torch.Size([800, 83])\n",
            "[167566  76933 168177 136504  24214  72634   4875  62553]\n",
            "torch.Size([800])\n",
            "torch.Size([800, 83])\n",
            "[  7103 112143   3989 100621 120357 162125  61035 169377]\n",
            "torch.Size([800])\n",
            "torch.Size([800, 83])\n",
            "[ 46364 151876  10920 180867  81735  57316   9764 183608]\n",
            "torch.Size([800])\n",
            "torch.Size([800, 83])\n",
            "[160967  64679  42712 157825  13326 153246  25137  22690]\n",
            "torch.Size([800])\n",
            "torch.Size([800, 83])\n",
            "[187392 120026 183888  58272 152382  12301   7509  96182]\n",
            "torch.Size([800])\n",
            "torch.Size([800, 83])\n",
            "[160526 173439  77411 124032 162124 191774 135855 120490]\n",
            "torch.Size([800])\n",
            "torch.Size([800, 83])\n",
            "[129184 180537  47730  12965 182936  35676 199438  99886]\n",
            "torch.Size([800])\n",
            "torch.Size([800, 83])\n",
            "[  8043  93045  53047 199607 144568 139234 134001 113812]\n",
            "torch.Size([800])\n",
            "torch.Size([800, 83])\n",
            "[ 69536 183026  45629 194549  60970 142412  69991 172086]\n",
            "torch.Size([800])\n",
            "torch.Size([800, 83])\n",
            "[170485  63532 138605 155527 177818  77847 136375  33609]\n",
            "torch.Size([800])\n",
            "torch.Size([800, 83])\n",
            "[105243 172294 136451  48633  48633 105773  23699 131042]\n",
            "torch.Size([800])\n",
            "torch.Size([800, 83])\n",
            "[123993  56681    199 192057  50469 183137 150356 174732]\n",
            "torch.Size([800])\n",
            "torch.Size([800, 83])\n",
            "[ 72539  73089  36227 177529 125290  85466 168239 140993]\n",
            "torch.Size([800])\n",
            "torch.Size([800, 83])\n",
            "[ 30091  13001  68885 151784  44278 193880  54223 120904]\n",
            "torch.Size([800])\n",
            "torch.Size([800, 83])\n",
            "[ 38482 190243  90549 163343 165651  20830  51982 138217]\n",
            "torch.Size([800])\n",
            "torch.Size([800, 83])\n",
            "[174643  36328  65423  97023   4746  40984  99702  10062]\n",
            "torch.Size([800])\n",
            "torch.Size([800, 83])\n",
            "[185294    360 110588  32082 198301 108259  80485  23082]\n",
            "torch.Size([800])\n",
            "torch.Size([800, 83])\n",
            "[ 41711  90806 132414  55684  72984 137731 196143  61550]\n",
            "torch.Size([800])\n",
            "torch.Size([800, 83])\n",
            "[ 96885 180474  32394  98405 182444 161953 102094  65899]\n",
            "torch.Size([800])\n",
            "torch.Size([800, 83])\n"
          ]
        },
        {
          "output_type": "stream",
          "name": "stderr",
          "text": [
            " 99%|█████████▉| 2968/3000 [00:23<00:00, 143.99it/s]"
          ]
        },
        {
          "output_type": "stream",
          "name": "stdout",
          "text": [
            "[153189 193965  12496 188913  79583 163031 191447 195668]\n",
            "torch.Size([800])\n",
            "torch.Size([800, 83])\n",
            "[ 49582 105531  84180  99400   6214 137239 172015  63892]\n",
            "torch.Size([800])\n",
            "torch.Size([800, 83])\n",
            "[109126  93526 156829 131549 191393  19798 118099 191786]\n",
            "torch.Size([800])\n",
            "torch.Size([800, 83])\n",
            "[ 97343  10191  36109 133110 196450  90702  17298 195157]\n",
            "torch.Size([800])\n",
            "torch.Size([800, 83])\n",
            "[ 56074 164288 136778  46872 109393  70295 143569  20904]\n",
            "torch.Size([800])\n",
            "torch.Size([800, 83])\n",
            "[ 52976 132278  22541   6875  71864  45463 129130 119982]\n",
            "torch.Size([800])\n",
            "torch.Size([800, 83])\n",
            "[ 13092 107327 151737   2369 110218   3232 199363 161917]\n",
            "torch.Size([800])\n",
            "torch.Size([800, 83])\n",
            "[181923 171426   5876  37987 170070   4652 138267 142964]\n",
            "torch.Size([800])\n",
            "torch.Size([800, 83])\n",
            "[ 27438  97729  37216  35013 152109 137030  24241  26499]\n",
            "torch.Size([800])\n",
            "torch.Size([800, 83])\n",
            "[100310 113593 152077 129300 141342  24075  62465 185202]\n",
            "torch.Size([800])\n",
            "torch.Size([800, 83])\n",
            "[ 36149  37277 105552 137403   5398 162606  33526 190867]\n",
            "torch.Size([800])\n",
            "torch.Size([800, 83])\n",
            "[121888  61754  17060 177556  70816  90376  91636  79399]\n",
            "torch.Size([800])\n",
            "torch.Size([800, 83])\n",
            "[ 40334 140370 186015 156910  54551 132103 129111  85396]\n",
            "torch.Size([800])\n",
            "torch.Size([800, 83])\n",
            "[ 14529  69622  92603 187749 178882  82371  45746 196547]\n",
            "torch.Size([800])\n",
            "torch.Size([800, 83])\n",
            "[161862 110451   8880 172287  60631  76058 178825  86975]\n",
            "torch.Size([800])\n",
            "torch.Size([800, 83])\n",
            "[198626 179539  28326 180812  67211 152400  82358 119160]\n",
            "torch.Size([800])\n",
            "torch.Size([800, 83])\n",
            "[ 12776 192215 173773 126156  18196 130034   7815  25249]\n",
            "torch.Size([800])\n",
            "torch.Size([800, 83])\n",
            "[163234 137258  93950  72087 180491  70149 188214   5620]\n",
            "torch.Size([800])\n",
            "torch.Size([800, 83])\n",
            "[196821  88336  44615 173459   3298 149947  52435 111842]\n",
            "torch.Size([800])\n",
            "torch.Size([800, 83])\n",
            "[183024  82380  92333  21294  84863 110363 117562 157916]\n",
            "torch.Size([800])\n",
            "torch.Size([800, 83])\n",
            "[168014  63016  83299  34727  98281 123706  80042 174656]\n",
            "torch.Size([800])\n",
            "torch.Size([800, 83])\n",
            "[ 23678 152129 115784  43378 121375  82947  23887  38227]\n",
            "torch.Size([800])\n",
            "torch.Size([800, 83])\n",
            "[ 71394  19777  71655 159159  35803  17291 107261 121388]\n",
            "torch.Size([800])\n",
            "torch.Size([800, 83])\n",
            "[ 62004  56736 185303 173508 160228 142992 109662 158164]\n",
            "torch.Size([800])\n",
            "torch.Size([800, 83])\n",
            "[ 44243 189530 153526 103681  28022 142667  36026  57291]\n",
            "torch.Size([800])\n",
            "torch.Size([800, 83])\n",
            "[184552 176489  89333 164904  57249 179057 124907 127297]\n",
            "torch.Size([800])\n",
            "torch.Size([800, 83])\n",
            "[ 65451  43376 195813 179078  88568 169074 121361  86578]\n",
            "torch.Size([800])\n",
            "torch.Size([800, 83])\n",
            "[ 44026 111322  37897 101441 150934  42772 104492 180840]\n",
            "torch.Size([800])\n",
            "torch.Size([800, 83])\n",
            "[144037 187367 121482 195003  62950 139406 124638  14637]\n",
            "torch.Size([800])\n",
            "torch.Size([800, 83])\n"
          ]
        },
        {
          "output_type": "stream",
          "name": "stderr",
          "text": [
            "100%|██████████| 3000/3000 [00:23<00:00, 128.68it/s]"
          ]
        },
        {
          "output_type": "stream",
          "name": "stdout",
          "text": [
            "[155792  15385 143283  66335 123953  98424  84055 127721]\n",
            "torch.Size([800])\n",
            "torch.Size([800, 83])\n",
            "[124745 117421 128673  21751  79812 119986 158616 129129]\n",
            "torch.Size([800])\n",
            "torch.Size([800, 83])\n",
            "[192764  27236  22600  54130  44084 158258  97960  38595]\n",
            "torch.Size([800])\n",
            "torch.Size([800, 83])\n",
            "[170472 128109  49211   3944 106844  83677 168608 162124]\n",
            "torch.Size([800])\n",
            "torch.Size([800, 83])\n",
            "[190750 100708   7239  34993  83631 172219  27746  39061]\n",
            "torch.Size([800])\n",
            "torch.Size([800, 83])\n",
            "[ 85821 116257     84  44414 116210  34247  73085 110291]\n",
            "torch.Size([800])\n",
            "torch.Size([800, 83])\n",
            "[ 64484  36098 157970 140459   1879 159686 111928  17204]\n",
            "torch.Size([800])\n",
            "torch.Size([800, 83])\n",
            "[ 10647 148712  69956 193530 175778  51784 144223  60725]\n",
            "torch.Size([800])\n",
            "torch.Size([800, 83])\n",
            "[ 46281   2618 144432 182472  31416 172510   8446  98585]\n",
            "torch.Size([800])\n",
            "torch.Size([800, 83])\n",
            "[ 90216  15676  53148 148223 107487  12809 131593 190885]\n",
            "torch.Size([800])\n",
            "torch.Size([800, 83])\n",
            "[ 24382 139045 164594 119220 138159 121992 140641  23071]\n",
            "torch.Size([800])\n",
            "torch.Size([800, 83])\n",
            "[148847  88527   9711   6749 160514  43787  13279 170030]\n",
            "torch.Size([800])\n",
            "torch.Size([800, 83])\n",
            "[ 61704 134512 139139 125265 134088 186935 101481  31353]\n",
            "torch.Size([800])\n",
            "torch.Size([800, 83])\n",
            "[ 23663 166413 144837  25114  91692  87359 105877 127496]\n",
            "torch.Size([800])\n",
            "torch.Size([800, 83])\n",
            "[179057 106623  79245 109566 100058 123271  67567 142253]\n",
            "torch.Size([800])\n",
            "torch.Size([800, 83])\n",
            "[ 41896  13661  19487  86908 132883  49021 124338  95946]\n",
            "torch.Size([800])\n",
            "torch.Size([800, 83])\n",
            "[ 55253    403  18265  42906 108976  38060  29563 177772]\n",
            "torch.Size([800])\n",
            "torch.Size([800, 83])\n",
            "[ 34469 197620 167433 150351 111732 149171 187708 127054]\n",
            "torch.Size([800])\n",
            "torch.Size([800, 83])\n",
            "[163569 161539 182739 107918  86713 119981  59614 196202]\n",
            "torch.Size([800])\n",
            "torch.Size([800, 83])\n"
          ]
        },
        {
          "output_type": "stream",
          "name": "stderr",
          "text": [
            "\n"
          ]
        },
        {
          "output_type": "display_data",
          "data": {
            "text/plain": [
              "<Figure size 640x480 with 1 Axes>"
            ],
            "image/png": "[encoded data removed]"
          },
          "metadata": {}
        }
      ],
      "source": [
        "### Define optimizer and training operation ###\n",
        "\n",
        "'''TODO: instantiate a new LSTMModel model for training using the hyperparameters\n",
        "    created above.'''\n",
        "model = LSTMModel(vocab_size=vocab_size, embedding_dim=params['embedding_dim'], hidden_size=params[\"hidden_size\"])\n",
        "\n",
        "# Move the model to the GPU\n",
        "model.to(device)\n",
        "\n",
        "'''TODO: instantiate an optimizer with its learning rate.\n",
        "  Checkout the PyTorch website for a list of supported optimizers.\n",
        "  https://pytorch.org/docs/stable/optim.html\n",
        "  Try using the Adam optimizer to start.'''\n",
        "optimizer = torch.optim.Adam(model.parameters(), lr=params[\"learning_rate\"])\n",
        "\n",
        "def train_step(x, y):\n",
        "  # Set the model's mode to train\n",
        "  model.train()\n",
        "\n",
        "  # Zero gradients for every step\n",
        "  optimizer.zero_grad()\n",
        "\n",
        "  # Forward pass\n",
        "  '''TODO: feed the current input into the model and generate predictions'''\n",
        "  y_hat = model(x)\n",
        "\n",
        "  # Compute the loss\n",
        "  '''TODO: compute the loss!'''\n",
        "  loss = compute_loss(y, y_hat)\n",
        "\n",
        "  # Backward pass\n",
        "  '''TODO: complete the gradient computation and update step.\n",
        "    Remember that in PyTorch there are two steps to the training loop:\n",
        "    1. Backpropagate the loss\n",
        "    2. Update the model parameters using the optimizer\n",
        "  '''\n",
        "  '''TODO'''\n",
        "  loss.backward()\n",
        "  optimizer.step()\n",
        "\n",
        "  return loss\n",
        "\n",
        "##################\n",
        "# Begin training!#\n",
        "##################\n",
        "\n",
        "history = []\n",
        "plotter = mdl.util.PeriodicPlotter(sec=2, xlabel='Iterations', ylabel='Loss')\n",
        "experiment = create_experiment()\n",
        "\n",
        "if hasattr(tqdm, '_instances'): tqdm._instances.clear() # clear if it exists\n",
        "try:\n",
        "  for iter in tqdm(range(params[\"num_training_iterations\"])):\n",
        "\n",
        "      # Grab a batch and propagate it through the network\n",
        "      x_batch, y_batch = get_batch(vectorized_songs, params[\"seq_length\"], params[\"batch_size\"])\n",
        "\n",
        "      # Convert numpy arrays to PyTorch tensors\n",
        "      x_batch = torch.tensor(x_batch, dtype=torch.long).to(device)\n",
        "      y_batch = torch.tensor(y_batch, dtype=torch.long).to(device)\n",
        "\n",
        "      # Take a train step\n",
        "      loss = train_step(x_batch, y_batch)\n",
        "\n",
        "      # Log the loss to the Comet interface\n",
        "      experiment.log_metric(\"loss\", loss.item(), step=iter)\n",
        "\n",
        "      # Update the progress bar and visualize within notebook\n",
        "      history.append(loss.item())\n",
        "      plotter.plot(history)\n",
        "\n",
        "      # Save model checkpoint\n",
        "      if iter % 100 == 0:\n",
        "          torch.save(model.state_dict(), checkpoint_prefix)\n",
        "except Exception as e:\n",
        "  experiment.end()\n",
        "  print(e)\n",
        "\n",
        "# Save the final trained model\n",
        "torch.save(model.state_dict(), checkpoint_prefix)\n",
        "#experiment.flush()\n",
        "\n"
      ]
    },
    {
      "cell_type": "markdown",
      "metadata": {
        "id": "DjGz1tDkzf-u"
      },
      "source": [
        "### The prediction procedure\n",
        "\n",
        "Now, we're ready to write the code to generate text in the ABC music format:\n",
        "\n",
        "* Initialize a \"seed\" start string and the RNN state, and set the number of characters we want to generate.\n",
        "\n",
        "* Use the start string and the RNN state to obtain the probability distribution over the next predicted character.\n",
        "\n",
        "* Sample from multinomial distribution to calculate the index of the predicted character. This predicted character is then used as the next input to the model.\n",
        "\n",
        "* At each time step, the updated RNN state is fed back into the model, so that it now has more context in making the next prediction. After predicting the next character, the updated RNN states are again fed back into the model, which is how it learns sequence dependencies in the data, as it gets more information from the previous predictions.\n",
        "\n",
        "![LSTM inference](https://raw.githubusercontent.com/MITDeepLearning/introtodeeplearning/2019/lab1/img/lstm_inference.png)\n",
        "\n",
        "Complete and experiment with this code block (as well as some of the aspects of network definition and training!), and see how the model performs. How do songs generated after training with a small number of epochs compare to those generated after a longer duration of training?"
      ]
    },
    {
      "cell_type": "code",
      "execution_count": null,
      "metadata": {
        "id": "WvuwZBX5Ogfd"
      },
      "outputs": [],
      "source": [
        "### Prediction of a generated song ###\n",
        "\n",
        "def generate_text(model, start_string, generation_length=1000):\n",
        "  # Evaluation step (generating ABC text using the learned RNN model)\n",
        "\n",
        "  '''TODO: convert the start string to numbers (vectorize)'''\n",
        "  input_idx = [char2idx[s] for s in start_string] # TODO\n",
        "  input_idx = torch.tensor([input_idx], dtype=torch.long).to(device)\n",
        "\n",
        "  # Initialize the hidden state\n",
        "  state = model.init_hidden(input_idx.size(0), device)\n",
        "\n",
        "  # Empty string to store our results\n",
        "  text_generated = []\n",
        "  tqdm._instances.clear()\n",
        "\n",
        "  for i in tqdm(range(generation_length)):\n",
        "    '''TODO: evaluate the inputs and generate the next character predictions'''\n",
        "    #TODO: VER\n",
        "    predictions, state = model(input_idx, state, return_state=True)\n",
        "    #vocab_size, embedding_dim, hidden_size):\n",
        "    # Remove the batch dimension\n",
        "    predictions = predictions.squeeze(0)\n",
        "\n",
        "    '''TODO: use a multinomial distribution to sample over the probabilities'''\n",
        "    #TODO: VER\n",
        "    input_idx = torch.multinomial(torch.softmax(predictions, dim=-1), num_samples=1)\n",
        "\n",
        "    '''TODO: add the predicted character to the generated text!'''\n",
        "    # Hint: consider what format the prediction is in vs. the output\n",
        "    text_generated.append(idx2char[input_idx].item()) # TODO\n",
        "\n",
        "  return (start_string + ''.join(text_generated))"
      ]
    },
    {
      "cell_type": "code",
      "execution_count": null,
      "metadata": {
        "id": "ktovv0RFhrkn",
        "colab": {
          "base_uri": "https://localhost:8080/"
        },
        "outputId": "e15bfeb0-f823-414d-a3d3-3846c2571126"
      },
      "outputs": [
        {
          "output_type": "stream",
          "name": "stderr",
          "text": [
            "100%|██████████| 1000/1000 [00:00<00:00, 1592.06it/s]\n"
          ]
        }
      ],
      "source": [
        "'''TODO: Use the model and the function defined above to generate ABC format text of length 1000!\n",
        "    As you may notice, ABC files start with \"X\" - this may be a good start string.'''\n",
        "generated_text = generate_text(model, start_string=\"X\", generation_length=1000) # TODO"
      ]
    },
    {
      "cell_type": "markdown",
      "metadata": {
        "id": "AM2Uma_-yVIq"
      },
      "source": [
        "### Play back the generated music!\n",
        "\n",
        "We can now call a function to convert the ABC format text to an audio file, and then play that back to check out our generated music! Try training longer if the resulting song is not long enough, or re-generating the song!\n",
        "\n",
        "We will save the song to Comet -- you will be able to find your songs under the `Audio` and `Assets & Artifacts` pages in your Comet interface for the project. Note the [`log_asset()`](https://www.comet.com/docs/v2/api-and-sdk/python-sdk/reference/Experiment/#experimentlog_asset) documentation, where you will see how to specify file names and other parameters for saving your assets."
      ]
    },
    {
      "cell_type": "code",
      "execution_count": null,
      "metadata": {
        "id": "LrOtG64bfLto"
      },
      "outputs": [],
      "source": [
        "### Play back generated songs ###\n",
        "\n",
        "generated_songs = mdl.lab1.extract_song_snippet(generated_text)\n",
        "\n",
        "for i, song in enumerate(generated_songs):\n",
        "  # Synthesize the waveform from a song\n",
        "  waveform = mdl.lab1.play_song(song)\n",
        "\n",
        "  # If its a valid song (correct syntax), lets play it!\n",
        "  if waveform:\n",
        "    print(\"Generated song\", i)\n",
        "    ipythondisplay.display(waveform)\n",
        "\n",
        "    numeric_data = np.frombuffer(waveform.data, dtype=np.int16)\n",
        "    wav_file_path = f\"output_{i}.wav\"\n",
        "    write(wav_file_path, 88200, numeric_data)\n",
        "\n",
        "    # save your song to the Comet interface -- you can access it there\n",
        "    experiment.log_asset(wav_file_path)"
      ]
    },
    {
      "cell_type": "code",
      "execution_count": null,
      "metadata": {
        "id": "4353qSV76gnJ"
      },
      "outputs": [],
      "source": [
        "# when done, end the comet experiment\n",
        "experiment.end()"
      ]
    },
    {
      "cell_type": "markdown",
      "metadata": {
        "id": "HgVvcrYmSKGG"
      },
      "source": [
        "## 2.7 Experiment and **get awarded for the best songs**!\n",
        "\n",
        "Congrats on making your first sequence model in TensorFlow! It's a pretty big accomplishment, and hopefully you have some sweet tunes to show for it.\n",
        "\n",
        "Consider how you may improve your model and what seems to be most important in terms of performance. Here are some ideas to get you started:\n",
        "\n",
        "*  How does the number of training epochs affect the performance?\n",
        "*  What if you alter or augment the dataset?\n",
        "*  Does the choice of start string significantly affect the result?\n",
        "\n",
        "Try to optimize your model and submit your best song! **Participants will be eligible for prizes during the January 2025 offering. To enter the competition, you must upload the following to [this submission link](https://www.dropbox.com/request/U8nND6enGjirujVZKX1n):**\n",
        "\n",
        "* a recording of your song;\n",
        "* iPython notebook with the code you used to generate the song;\n",
        "* a description and/or diagram of the architecture and hyperparameters you used -- if there are any additional or interesting modifications you made to the template code, please include these in your description.\n",
        "\n",
        "**Name your file in the following format: ``[FirstName]_[LastName]_RNNMusic``, followed by the file format (.zip, .mp4, .ipynb, .pdf, etc). ZIP files of all three components are preferred over individual files. If you submit individual files, you must name the individual files according to the above nomenclature.**\n",
        "\n",
        "You can also tweet us at [@MITDeepLearning](https://twitter.com/MITDeepLearning) a copy of the song (but this will not enter you into the competition)! See this example song generated by a previous student (credit Ana Heart): <a href=\"https://twitter.com/AnaWhatever16/status/1263092914680410112?s=20\">song from May 20, 2020.</a>\n",
        "<script async src=\"https://platform.twitter.com/widgets.js\" charset=\"utf-8\"></script>\n",
        "\n",
        "Have fun and happy listening!\n",
        "\n",
        "![Let's Dance!](http://33.media.tumblr.com/3d223954ad0a77f4e98a7b87136aa395/tumblr_nlct5lFVbF1qhu7oio1_500.gif)\n"
      ]
    }
  ],
  "metadata": {
    "accelerator": "GPU",
    "colab": {
      "collapsed_sections": [
        "uoJsVjtCMunI"
      ],
      "name": "PT_Part2_Music_Generation.ipynb",
      "provenance": [],
      "machine_shape": "hm",
      "gpuType": "A100",
      "toc_visible": true
    },
    "kernelspec": {
      "display_name": "Python 3",
      "name": "python3"
    },
    "language_info": {
      "codemirror_mode": {
        "name": "ipython",
        "version": 3
      },
      "file_extension": ".py",
      "mimetype": "text/x-python",
      "name": "python",
      "nbconvert_exporter": "python",
      "pygments_lexer": "ipython3",
      "version": "3.11.11"
    }
  },
  "nbformat": 4,
  "nbformat_minor": 0
}